{
 "cells": [
  {
   "cell_type": "code",
   "execution_count": 1,
   "metadata": {},
   "outputs": [],
   "source": [
    "import os, json, nltk\n",
    "import numpy as np\n",
    "import tensorflow as tf\n",
    "\n",
    "from konlpy.tag import Okt\n",
    "from tensorflow.keras.initializers import glorot_uniform"
   ]
  },
  {
   "cell_type": "code",
   "execution_count": 2,
   "metadata": {},
   "outputs": [],
   "source": [
    "if os.path.isfile('data/nsmcData/train_docs.json'):\n",
    "    with open('data/nsmcData/train_docs.json') as f:\n",
    "        train_docs = json.load(f)\n",
    "    with open('data/nsmcData/test_docs.json') as f:\n",
    "        test_docs = json.load(f)"
   ]
  },
  {
   "cell_type": "code",
   "execution_count": 3,
   "metadata": {},
   "outputs": [],
   "source": [
    "okt = Okt()\n",
    "tokens = [t for d in  train_docs for t in d[0]]\n",
    "text = nltk.Text(tokens, name='NSMC')\n",
    "selected_words = [f[0] for f in text.vocab().most_common(10000)]\n",
    "\n",
    "model = tf.keras.models.load_model('data/modelData/model.h5', custom_objects={'GlorotUniform': glorot_uniform()})"
   ]
  },
  {
   "cell_type": "code",
   "execution_count": 4,
   "metadata": {},
   "outputs": [],
   "source": [
    "def tokenize(doc):\n",
    "    # norm은 정규화, stem은 근어로 표시\n",
    "    return ['/'.join(t) for t in okt.pos(doc, norm=True, stem=True)]\n",
    "\n",
    "def term_frequency(doc):\n",
    "    return [doc.count(word) for word in selected_words]"
   ]
  },
  {
   "cell_type": "code",
   "execution_count": 5,
   "metadata": {},
   "outputs": [],
   "source": [
    "def percentage_pos_neg(review):\n",
    "    token = tokenize(review)\n",
    "    tf = term_frequency(token)\n",
    "    data = np.expand_dims(np.asarray(tf).astype('float32'), axis=0)\n",
    "    score = float(model.predict(data))\n",
    "    \n",
    "    if(score > 0.5):\n",
    "        print(\"[{}]는 {:.2f}% chance to be positive\\n\".format(review, score*100))\n",
    "        return 1, round(score*100, 2)\n",
    "    else:\n",
    "        print(\"[{}]는 {:.2f}% chance to be negative\\n\".format(review, (1-score)*100))\n",
    "        return 0, round(score*100, 2)"
   ]
  },
  {
   "cell_type": "code",
   "execution_count": 6,
   "metadata": {},
   "outputs": [
    {
     "name": "stdout",
     "output_type": "stream",
     "text": [
      "[나빠]는 82.03% chance to be negative\n",
      "\n"
     ]
    },
    {
     "data": {
      "text/plain": [
       "(0, 17.97)"
      ]
     },
     "execution_count": 6,
     "metadata": {},
     "output_type": "execute_result"
    }
   ],
   "source": [
    "percentage_pos_neg('나빠')"
   ]
  }
 ],
 "metadata": {
  "kernelspec": {
   "display_name": "Python 3",
   "language": "python",
   "name": "python3"
  },
  "language_info": {
   "codemirror_mode": {
    "name": "ipython",
    "version": 3
   },
   "file_extension": ".py",
   "mimetype": "text/x-python",
   "name": "python",
   "nbconvert_exporter": "python",
   "pygments_lexer": "ipython3",
   "version": "3.6.8"
  }
 },
 "nbformat": 4,
 "nbformat_minor": 2
}
