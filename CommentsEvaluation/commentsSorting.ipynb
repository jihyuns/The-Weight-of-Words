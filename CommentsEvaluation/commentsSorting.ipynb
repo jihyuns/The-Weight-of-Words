{
 "cells": [
  {
   "cell_type": "code",
   "execution_count": 54,
   "metadata": {},
   "outputs": [],
   "source": [
    "import pandas as pd\n",
    "\n",
    "# df = pd.read_csv(\"data/commentsData/comments_Entertainment_edit.csv\", sep=\",\")\n",
    "# df = pd.read_csv(\"data/commentsData/comments_Politics_edit.csv\", sep=\",\")\n",
    "df = pd.read_csv(\"data/commentsData/comments_Social_edit.csv\", sep=\",\")"
   ]
  },
  {
   "cell_type": "code",
   "execution_count": 55,
   "metadata": {},
   "outputs": [],
   "source": [
    "descendData = []\n",
    "ascendData = []\n",
    "total = []\n",
    "\n",
    "descendData = df.loc[df['predict']==1].sort_values(by='percent', ascending=False)\n",
    "ascendData = df.loc[df['predict']==0].sort_values(by='percent', ascending=True)\n",
    "\n",
    "total = descendData.append(ascendData)"
   ]
  },
  {
   "cell_type": "code",
   "execution_count": 56,
   "metadata": {},
   "outputs": [],
   "source": [
    "total.to_csv('data/commentSorting/comments_Social_sorting.csv', mode='a', encoding='utf-8')"
   ]
  }
 ],
 "metadata": {
  "kernelspec": {
   "display_name": "Python 3",
   "language": "python",
   "name": "python3"
  },
  "language_info": {
   "codemirror_mode": {
    "name": "ipython",
    "version": 3
   },
   "file_extension": ".py",
   "mimetype": "text/x-python",
   "name": "python",
   "nbconvert_exporter": "python",
   "pygments_lexer": "ipython3",
   "version": "3.6.8"
  }
 },
 "nbformat": 4,
 "nbformat_minor": 2
}
